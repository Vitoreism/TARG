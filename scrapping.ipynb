{
 "cells": [
  {
   "cell_type": "code",
   "execution_count": 2,
   "metadata": {},
   "outputs": [],
   "source": [
    "from selenium import webdriver\n",
    "import yfinance as yf\n",
    "import requests\n",
    "from selenium.webdriver.common.by import By\n",
    "from selenium.webdriver.support.ui import WebDriverWait\n",
    "from selenium.webdriver.support import expected_conditions as EC\n",
    "import pandas as pd\n",
    "from bs4 import BeautifulSoup"
   ]
  },
  {
   "cell_type": "code",
   "execution_count": null,
   "metadata": {},
   "outputs": [
    {
     "name": "stdout",
     "output_type": "stream",
     "text": [
      "200\n"
     ]
    }
   ],
   "source": [
    "url = \"https://www.metropoles.com/brasil/banco-do-brasil-policia-investiga-fraudes-de-r-40-mi-contra-clientes\"\n",
    "response = requests.get(url)\n",
    "\n",
    "print(response.status_code)"
   ]
  },
  {
   "cell_type": "code",
   "execution_count": 14,
   "metadata": {},
   "outputs": [
    {
     "name": "stdout",
     "output_type": "stream",
     "text": [
      "A Polícia Civil do Rio de Janeiro e o Ministério Público do estado (MPRJ) deflagraram, na manhã desta quinta-feira (21/11), uma operação contra fraudes noBanco do Brasil. Estima-se que o prejuízo ao banco foi de mais de R$ 40 milhões.\n",
      "\n",
      "\n",
      "Entre os alvos da Operação Chave Mestra estão funcionários e terceirizados investigados por participação em organização criminosa e invasão de dispositivo de informática.\n",
      "\n",
      "\n",
      "Segundo o MPRJ, as investigações tiveram início a partir de informações apuradas pela Unidade de Segurança Institucional do Banco do Brasil e revelaram que o grupo utiliza dispositivos eletrônicos como modens e roteadores clandestinos para acessar sistemas internos de agências bancárias e obter dados sigilosos de clientes, manipulando essas informações para cometerfraudes financeiras.\n",
      "\n",
      "\n",
      "A organização atuava desde dezembro de 2023 e, em apenas oito meses, conseguiu invadir o sistema de segurança de agências do Banco do Brasil localizadas no Recreio dos Bandeirantes, Barra da Tijuca, Vila Isabel, Centro do Rio, além de unidades localizadas nos municípios deNiterói.\n",
      "\n",
      "\n",
      "Ainda de acordo com oMinistério Público, o grupo criminoso atuava com divisão de tarefas específicas entre aliciadores, aliciados, instaladores, operadores financeiros e líderes.\n",
      "\n",
      "\n",
      "Ao todo são cumpridos 16 mandados de busca e apreensão contra 11 investigados em São Gonçalo, Taquara, Barra da Tijuca, Praça Seca, Magé, Recreio dos Bandeirantes, Pechincha, Cidade de Deus, Magalhães Bastos e Irajá. Cerca de 25 equipes policiais da Delegacia de Roubos e Furtos (DRF) e do Grupo de Atuação Especial de Combate ao Crime Organizado (Gaeco/MPRJ) participam da operação. O objetivo é apreender dispositivos eletrônicos ilegais, coletar provas e identificar outros integrantes do esquema criminoso.\n",
      "\n",
      "\n",
      "AoMetrópoles, o Banco do Brasil informou que esse é um desdobramento da operação que se iniciou em julho deste ano, e que está em sua quarta fase. As investigações iniciaram a partir de apuração interna, que detectou irregularidades, as quais foram comunicadas às autoridades policiais.\n",
      "\n",
      "\n",
      "“O BB possui processos estabelecidos para monitoramento e apuração de fraudes contra a instituição, adotou todas as providências no seu âmbito de atuação e colabora com as investigações do caso”, afirma a instituição em nota.\n",
      "\n",
      "\n",
      "\n",
      "\n",
      "\n",
      "Receba notícias do Metrópoles no seuTelegrame fique por dentro de tudo! Basta acessar o canal:https://t.me/metropolesurgente.\n",
      "\n",
      "\n"
     ]
    }
   ],
   "source": [
    "html = response.text\n",
    "soup = BeautifulSoup(html, 'html.parser')\n",
    "\n",
    "content_box = soup.find(\"div\", class_=\"ConteudoNoticiaWrapper__Artigo-sc-19fsm27-1 iZYHrO\")\n",
    "\n",
    "if content_box:\n",
    "    # Extraindo os parágrafos do texto da notícia\n",
    "    paragrafo_noticia = [p.get_text(strip=True) for p in content_box.find_all(\"p\")]\n",
    "        \n",
    "    # Exibindo cada parágrafo da notícia\n",
    "    for paragrafo in paragrafo_noticia:\n",
    "        print(paragrafo, end='\\n\\n\\n')\n",
    "else:\n",
    "    print(\"Conteúdo principal da notícia não encontrado!\")"
   ]
  },
  {
   "cell_type": "code",
   "execution_count": null,
   "metadata": {},
   "outputs": [],
   "source": []
  }
 ],
 "metadata": {
  "kernelspec": {
   "display_name": "Python 3",
   "language": "python",
   "name": "python3"
  },
  "language_info": {
   "codemirror_mode": {
    "name": "ipython",
    "version": 3
   },
   "file_extension": ".py",
   "mimetype": "text/x-python",
   "name": "python",
   "nbconvert_exporter": "python",
   "pygments_lexer": "ipython3",
   "version": "3.12.3"
  }
 },
 "nbformat": 4,
 "nbformat_minor": 2
}
