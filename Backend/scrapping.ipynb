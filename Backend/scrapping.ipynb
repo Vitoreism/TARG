{
 "cells": [
  {
   "cell_type": "code",
   "execution_count": 1,
   "metadata": {},
   "outputs": [],
   "source": [
    "from selenium import webdriver\n",
    "import yfinance as yf\n",
    "import requests\n",
    "from selenium.webdriver.common.by import By\n",
    "from selenium.webdriver.support.ui import WebDriverWait\n",
    "from selenium.webdriver.support import expected_conditions as EC\n",
    "import pandas as pd\n",
    "from bs4 import BeautifulSoup"
   ]
  },
  {
   "cell_type": "code",
   "execution_count": null,
   "metadata": {},
   "outputs": [
    {
     "name": "stdout",
     "output_type": "stream",
     "text": [
      "200\n"
     ]
    }
   ],
   "source": [
    "url = \"https://www.metropoles.com/brasil/banco-do-brasil-policia-investiga-fraudes-de-r-40-mi-contra-clientes\"\n",
    "response = requests.get(url)\n",
    "\n",
    "print(response.status_code)"
   ]
  },
  {
   "cell_type": "code",
   "execution_count": 14,
   "metadata": {},
   "outputs": [
    {
     "name": "stdout",
     "output_type": "stream",
     "text": [
      "A Polícia Civil do Rio de Janeiro e o Ministério Público do estado (MPRJ) deflagraram, na manhã desta quinta-feira (21/11), uma operação contra fraudes noBanco do Brasil. Estima-se que o prejuízo ao banco foi de mais de R$ 40 milhões.\n",
      "\n",
      "\n",
      "Entre os alvos da Operação Chave Mestra estão funcionários e terceirizados investigados por participação em organização criminosa e invasão de dispositivo de informática.\n",
      "\n",
      "\n",
      "Segundo o MPRJ, as investigações tiveram início a partir de informações apuradas pela Unidade de Segurança Institucional do Banco do Brasil e revelaram que o grupo utiliza dispositivos eletrônicos como modens e roteadores clandestinos para acessar sistemas internos de agências bancárias e obter dados sigilosos de clientes, manipulando essas informações para cometerfraudes financeiras.\n",
      "\n",
      "\n",
      "A organização atuava desde dezembro de 2023 e, em apenas oito meses, conseguiu invadir o sistema de segurança de agências do Banco do Brasil localizadas no Recreio dos Bandeirantes, Barra da Tijuca, Vila Isabel, Centro do Rio, além de unidades localizadas nos municípios deNiterói.\n",
      "\n",
      "\n",
      "Ainda de acordo com oMinistério Público, o grupo criminoso atuava com divisão de tarefas específicas entre aliciadores, aliciados, instaladores, operadores financeiros e líderes.\n",
      "\n",
      "\n",
      "Ao todo são cumpridos 16 mandados de busca e apreensão contra 11 investigados em São Gonçalo, Taquara, Barra da Tijuca, Praça Seca, Magé, Recreio dos Bandeirantes, Pechincha, Cidade de Deus, Magalhães Bastos e Irajá. Cerca de 25 equipes policiais da Delegacia de Roubos e Furtos (DRF) e do Grupo de Atuação Especial de Combate ao Crime Organizado (Gaeco/MPRJ) participam da operação. O objetivo é apreender dispositivos eletrônicos ilegais, coletar provas e identificar outros integrantes do esquema criminoso.\n",
      "\n",
      "\n",
      "AoMetrópoles, o Banco do Brasil informou que esse é um desdobramento da operação que se iniciou em julho deste ano, e que está em sua quarta fase. As investigações iniciaram a partir de apuração interna, que detectou irregularidades, as quais foram comunicadas às autoridades policiais.\n",
      "\n",
      "\n",
      "“O BB possui processos estabelecidos para monitoramento e apuração de fraudes contra a instituição, adotou todas as providências no seu âmbito de atuação e colabora com as investigações do caso”, afirma a instituição em nota.\n",
      "\n",
      "\n",
      "\n",
      "\n",
      "\n",
      "Receba notícias do Metrópoles no seuTelegrame fique por dentro de tudo! Basta acessar o canal:https://t.me/metropolesurgente.\n",
      "\n",
      "\n"
     ]
    }
   ],
   "source": [
    "html = response.text\n",
    "soup = BeautifulSoup(html, 'html.parser')\n",
    "\n",
    "content_box = soup.find(\"div\", class_=\"ConteudoNoticiaWrapper__Artigo-sc-19fsm27-1 iZYHrO\")\n",
    "\n",
    "if content_box:\n",
    "    # Extraindo os parágrafos do texto da notícia\n",
    "    paragrafo_noticia = [p.get_text(strip=True) for p in content_box.find_all(\"p\")]\n",
    "        \n",
    "    # Exibindo cada parágrafo da notícia\n",
    "    for paragrafo in paragrafo_noticia:\n",
    "        print(paragrafo, end='\\n\\n\\n')\n",
    "else:\n",
    "    print(\"Conteúdo principal da notícia não encontrado!\")"
   ]
  },
  {
   "cell_type": "code",
   "execution_count": null,
   "metadata": {},
   "outputs": [],
   "source": [
    "\n"
   ]
  },
  {
   "cell_type": "code",
   "execution_count": 3,
   "metadata": {},
   "outputs": [
    {
     "data": {
      "text/plain": [
       "<Response [200]>"
      ]
     },
     "execution_count": 3,
     "metadata": {},
     "output_type": "execute_result"
    }
   ],
   "source": [
    "url = 'https://www.infomoney.com.br/economia/boletim-focus-mercado-eleva-projecao-da-selic-em-2025-a-12-e-ve-inflacao-mais-alta/#:~:text=na%20semana%20anterior.-,Para%202024%2C%20a%20proje%C3%A7%C3%A3o%20para%20a%20Selic%2C%20atualmente%20em%2011,de%20pol%C3%ADtica%20monet%C3%A1ria%20do%20ano.'\n",
    "response_2 = requests.get(url)\n",
    "response_2"
   ]
  },
  {
   "cell_type": "code",
   "execution_count": 4,
   "metadata": {},
   "outputs": [],
   "source": [
    "driver = webdriver.Chrome()\n",
    "driver.get(url)"
   ]
  },
  {
   "cell_type": "code",
   "execution_count": 5,
   "metadata": {},
   "outputs": [
    {
     "name": "stdout",
     "output_type": "stream",
     "text": [
      "Título: Boletim Focus: Mercado eleva projeção da Selic em 2025 a 12% e vê inflação mais alta\n",
      "Conteúdo:\n",
      "Reuters\n",
      "18/11/2024 09h13•Atualizado 4 dias atrás\n",
      "Publicidade\n",
      "SÃO PAULO (Reuters) – Analistas consultados pelo Banco Central subiram novamente sua projeção para o nível da Selic no próximo ano, em meio a expectativas mais altas para o avanço doIPCAneste ano e nos próximos dois, elevando também as previsões para as cotações do dólar, de acordo com a pesquisa Focus divulgada nesta segunda-feira.\n",
      "O levantamento, que capta a percepção do mercado para indicadores econômicos, mostrou que a mediana das expectativas para a taxa básica de juros ao fim do próximo ano agora é de 12,00%, de 11,50% na semana anterior.\n",
      "Para 2024, a projeção para a Selic, atualmente em 11,25%, manteve-se em 11,75% pela sétima semana consecutiva. O BC volta a se reunir em dezembro para a última decisão de política monetária do ano.\n",
      "A mudança na previsão ocorre na esteira da divulgação da ata da mais recente reunião do Comitê de Política Monetária (Copom) na terça-feira. No documento, os membros afirmaram que deterioração adicional das expectativas de mercado para a inflação à frente pode levar a um prolongamento do ciclo de aperto dos juros básicos.\n",
      "O BC também reforçou a defesa da adoção de medidas fiscais pelo governo, argumentando que ações nesse sentido podem induzir o crescimento econômico. O Executivo tem prometido o anúncio de um pacote de medidas de contenção de gastos a fim de garantir a sustentação do arcabouço fiscal.\n",
      "Neste mês, o Copom decidiu acelerar o ritmo de aperto nos juros ao elevar a taxa Selic em 0,50 ponto percentual, em decisão unânime de sua diretoria que não indicou os próximos passos da política monetária.\n",
      "Continua depois da publicidade\n",
      "A pesquisa semanal com uma centena de economistas mostrou ainda um aumento na projeção para o IPCA neste ano pela sétima semana consecutiva, agora com alta de 4,64% — acima do teto da meta perseguida pelo BC –, ante 4,62% há uma semana. Em 2025, o avanço do índice deve chegar a 4,12%, acima dos 4,10% projetados anteriormente, e em 2026 a conta subiu a 3,70%, de 3,65%.\n",
      "O centro da meta oficial para a inflação é de 3,00%, com margem de tolerância de 1,5 ponto percentual.\n",
      "Houve aumento ainda na expectativa para a cotação do dólar em 2024, agora em 5,60 reais, de 5,55 reais na semana anterior. No final do próximo ano, a moeda norte-americana deve atingir 5,50 reais, segundo os analistas, ante 5,48 reais há uma semana.\n",
      "Continua depois da publicidade\n",
      "Sobre o PIB brasileiro, a previsão é de que a economia do país cresça 3,10% neste ano, mesma expectativa da semana anterior. Em 2025, a projeção é de que a expansão seja de 1,94%, também repetindo o dado da pesquisa anterior.\n",
      "Reuters\n"
     ]
    }
   ],
   "source": [
    "try:\n",
    "    # Aguarde até que o título da notícia esteja presente no DOM (usando WebDriverWait)\n",
    "    WebDriverWait(driver, 10).until(\n",
    "        EC.presence_of_element_located((By.CLASS_NAME, \"text-3xl\"))\n",
    "    )\n",
    "\n",
    "    # Extraindo o HTML renderizado pelo navegador\n",
    "    html = driver.page_source\n",
    "\n",
    "    # Criando o objeto BeautifulSoup\n",
    "    soup = BeautifulSoup(html, 'html.parser')\n",
    "\n",
    "    # Extraindo o título da notícia\n",
    "    title_element = soup.find(\"h1\", class_=\"text-3xl md:text-5xl font-bold tracking-tighter text-wl-neutral-950\")\n",
    "    title = title_element.get_text(strip=True) if title_element else \"Título não encontrado\"\n",
    "\n",
    "    # Extraindo o corpo da notícia\n",
    "    content = []\n",
    "    for paragraph in soup.find_all('p'):\n",
    "        text = paragraph.get_text(strip=True)\n",
    "        if text:  # Ignorar parágrafos vazios\n",
    "            content.append(text)\n",
    "    content = \"\\n\".join(content)\n",
    "\n",
    "    # Exibindo os resultados\n",
    "    print(\"Título:\", title)\n",
    "    print(\"Conteúdo:\")\n",
    "    print(content)\n",
    "\n",
    "except Exception as e:\n",
    "    print(\"Erro ao carregar a página ou encontrar o elemento:\", e)\n",
    "\n",
    "finally:\n",
    "    # Fechando o navegador\n",
    "    driver.quit()"
   ]
  },
  {
   "cell_type": "code",
   "execution_count": 21,
   "metadata": {},
   "outputs": [],
   "source": [
    "html = response_2.text\n",
    "soup = BeautifulSoup(html, 'html.parser')"
   ]
  },
  {
   "cell_type": "code",
   "execution_count": null,
   "metadata": {},
   "outputs": [
    {
     "ename": "AttributeError",
     "evalue": "ResultSet object has no attribute 'get_text'. You're probably treating a list of elements like a single element. Did you call find_all() when you meant to call find()?",
     "output_type": "error",
     "traceback": [
      "\u001b[1;31m---------------------------------------------------------------------------\u001b[0m",
      "\u001b[1;31mAttributeError\u001b[0m                            Traceback (most recent call last)",
      "Cell \u001b[1;32mIn[22], line 2\u001b[0m\n\u001b[0;32m      1\u001b[0m title_element \u001b[38;5;241m=\u001b[39m soup\u001b[38;5;241m.\u001b[39mfind_all(\u001b[38;5;124m\"\u001b[39m\u001b[38;5;124mh1\u001b[39m\u001b[38;5;124m\"\u001b[39m, class_\u001b[38;5;241m=\u001b[39m\u001b[38;5;124m\"\u001b[39m\u001b[38;5;124mtext-3xl md:text-5xl font-bold tracking-tighter text-wl-neutral-950\u001b[39m\u001b[38;5;124m\"\u001b[39m)\n\u001b[1;32m----> 2\u001b[0m title \u001b[38;5;241m=\u001b[39m \u001b[43mtitle_element\u001b[49m\u001b[38;5;241;43m.\u001b[39;49m\u001b[43mget_text\u001b[49m(strip\u001b[38;5;241m=\u001b[39m\u001b[38;5;28;01mTrue\u001b[39;00m) \u001b[38;5;28;01mif\u001b[39;00m title_element \u001b[38;5;28;01melse\u001b[39;00m \u001b[38;5;124m\"\u001b[39m\u001b[38;5;124mTítulo não encontrado\u001b[39m\u001b[38;5;124m\"\u001b[39m\n\u001b[0;32m      3\u001b[0m title\n",
      "File \u001b[1;32mc:\\Users\\vitor\\AppData\\Local\\Programs\\Python\\Python312\\Lib\\site-packages\\bs4\\element.py:2433\u001b[0m, in \u001b[0;36mResultSet.__getattr__\u001b[1;34m(self, key)\u001b[0m\n\u001b[0;32m   2431\u001b[0m \u001b[38;5;28;01mdef\u001b[39;00m \u001b[38;5;21m__getattr__\u001b[39m(\u001b[38;5;28mself\u001b[39m, key):\n\u001b[0;32m   2432\u001b[0m \u001b[38;5;250m    \u001b[39m\u001b[38;5;124;03m\"\"\"Raise a helpful exception to explain a common code fix.\"\"\"\u001b[39;00m\n\u001b[1;32m-> 2433\u001b[0m     \u001b[38;5;28;01mraise\u001b[39;00m \u001b[38;5;167;01mAttributeError\u001b[39;00m(\n\u001b[0;32m   2434\u001b[0m         \u001b[38;5;124m\"\u001b[39m\u001b[38;5;124mResultSet object has no attribute \u001b[39m\u001b[38;5;124m'\u001b[39m\u001b[38;5;132;01m%s\u001b[39;00m\u001b[38;5;124m'\u001b[39m\u001b[38;5;124m. You\u001b[39m\u001b[38;5;124m'\u001b[39m\u001b[38;5;124mre probably treating a list of elements like a single element. Did you call find_all() when you meant to call find()?\u001b[39m\u001b[38;5;124m\"\u001b[39m \u001b[38;5;241m%\u001b[39m key\n\u001b[0;32m   2435\u001b[0m     )\n",
      "\u001b[1;31mAttributeError\u001b[0m: ResultSet object has no attribute 'get_text'. You're probably treating a list of elements like a single element. Did you call find_all() when you meant to call find()?"
     ]
    }
   ],
   "source": []
  },
  {
   "cell_type": "code",
   "execution_count": null,
   "metadata": {},
   "outputs": [],
   "source": []
  }
 ],
 "metadata": {
  "kernelspec": {
   "display_name": "Python 3",
   "language": "python",
   "name": "python3"
  },
  "language_info": {
   "codemirror_mode": {
    "name": "ipython",
    "version": 3
   },
   "file_extension": ".py",
   "mimetype": "text/x-python",
   "name": "python",
   "nbconvert_exporter": "python",
   "pygments_lexer": "ipython3",
   "version": "3.12.3"
  }
 },
 "nbformat": 4,
 "nbformat_minor": 2
}
